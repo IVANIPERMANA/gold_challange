{
 "cells": [
  {
   "cell_type": "markdown",
   "metadata": {},
   "source": [
    "Install"
   ]
  },
  {
   "cell_type": "code",
   "execution_count": 4,
   "metadata": {},
   "outputs": [
    {
     "name": "stdout",
     "output_type": "stream",
     "text": [
      "Requirement already satisfied: flasgger in c:\\users\\l580\\appdata\\local\\programs\\python\\python310\\lib\\site-packages (0.9.5)\n",
      "Requirement already satisfied: mistune in c:\\users\\l580\\appdata\\local\\programs\\python\\python310\\lib\\site-packages (from flasgger) (2.0.4)\n",
      "Requirement already satisfied: jsonschema>=3.0.1 in c:\\users\\l580\\appdata\\local\\programs\\python\\python310\\lib\\site-packages (from flasgger) (4.16.0)\n",
      "Requirement already satisfied: Flask>=0.10 in c:\\users\\l580\\appdata\\local\\programs\\python\\python310\\lib\\site-packages (from flasgger) (2.2.2)\n",
      "Requirement already satisfied: PyYAML>=3.0 in c:\\users\\l580\\appdata\\local\\programs\\python\\python310\\lib\\site-packages (from flasgger) (6.0)\n",
      "Requirement already satisfied: six>=1.10.0 in c:\\users\\l580\\appdata\\local\\programs\\python\\python310\\lib\\site-packages (from flasgger) (1.16.0)\n",
      "Requirement already satisfied: Werkzeug>=2.2.2 in c:\\users\\l580\\appdata\\local\\programs\\python\\python310\\lib\\site-packages (from Flask>=0.10->flasgger) (2.2.2)\n",
      "Requirement already satisfied: click>=8.0 in c:\\users\\l580\\appdata\\local\\programs\\python\\python310\\lib\\site-packages (from Flask>=0.10->flasgger) (8.1.3)\n",
      "Requirement already satisfied: itsdangerous>=2.0 in c:\\users\\l580\\appdata\\local\\programs\\python\\python310\\lib\\site-packages (from Flask>=0.10->flasgger) (2.1.2)\n",
      "Requirement already satisfied: Jinja2>=3.0 in c:\\users\\l580\\appdata\\local\\programs\\python\\python310\\lib\\site-packages (from Flask>=0.10->flasgger) (3.1.2)\n",
      "Requirement already satisfied: pyrsistent!=0.17.0,!=0.17.1,!=0.17.2,>=0.14.0 in c:\\users\\l580\\appdata\\local\\programs\\python\\python310\\lib\\site-packages (from jsonschema>=3.0.1->flasgger) (0.18.1)\n",
      "Requirement already satisfied: attrs>=17.4.0 in c:\\users\\l580\\appdata\\local\\programs\\python\\python310\\lib\\site-packages (from jsonschema>=3.0.1->flasgger) (22.1.0)\n",
      "Requirement already satisfied: colorama in c:\\users\\l580\\appdata\\local\\programs\\python\\python310\\lib\\site-packages (from click>=8.0->Flask>=0.10->flasgger) (0.4.5)\n",
      "Requirement already satisfied: MarkupSafe>=2.0 in c:\\users\\l580\\appdata\\local\\programs\\python\\python310\\lib\\site-packages (from Jinja2>=3.0->Flask>=0.10->flasgger) (2.1.1)\n",
      "Note: you may need to restart the kernel to use updated packages.\n"
     ]
    },
    {
     "name": "stderr",
     "output_type": "stream",
     "text": [
      "WARNING: You are using pip version 22.0.4; however, version 22.3 is available.\n",
      "You should consider upgrading via the 'c:\\Users\\L580\\AppData\\Local\\Programs\\Python\\Python310\\python.exe -m pip install --upgrade pip' command.\n"
     ]
    }
   ],
   "source": [
    "pip install flasgger"
   ]
  },
  {
   "cell_type": "code",
   "execution_count": 22,
   "metadata": {},
   "outputs": [
    {
     "name": "stdout",
     "output_type": "stream",
     "text": [
      "Collecting flask_swagger_ui\n",
      "  Downloading flask_swagger_ui-4.11.1-py3-none-any.whl (1.4 MB)\n",
      "     ---------------------------------------- 1.4/1.4 MB 4.2 MB/s eta 0:00:00\n",
      "Requirement already satisfied: flask in c:\\users\\l580\\appdata\\local\\programs\\python\\python310\\lib\\site-packages (from flask_swagger_ui) (2.2.2)\n",
      "Requirement already satisfied: Werkzeug>=2.2.2 in c:\\users\\l580\\appdata\\local\\programs\\python\\python310\\lib\\site-packages (from flask->flask_swagger_ui) (2.2.2)\n",
      "Requirement already satisfied: click>=8.0 in c:\\users\\l580\\appdata\\local\\programs\\python\\python310\\lib\\site-packages (from flask->flask_swagger_ui) (8.1.3)\n",
      "Requirement already satisfied: Jinja2>=3.0 in c:\\users\\l580\\appdata\\local\\programs\\python\\python310\\lib\\site-packages (from flask->flask_swagger_ui) (3.1.2)\n",
      "Requirement already satisfied: itsdangerous>=2.0 in c:\\users\\l580\\appdata\\local\\programs\\python\\python310\\lib\\site-packages (from flask->flask_swagger_ui) (2.1.2)\n",
      "Requirement already satisfied: colorama in c:\\users\\l580\\appdata\\local\\programs\\python\\python310\\lib\\site-packages (from click>=8.0->flask->flask_swagger_ui) (0.4.5)\n",
      "Requirement already satisfied: MarkupSafe>=2.0 in c:\\users\\l580\\appdata\\local\\programs\\python\\python310\\lib\\site-packages (from Jinja2>=3.0->flask->flask_swagger_ui) (2.1.1)\n",
      "Installing collected packages: flask_swagger_ui\n",
      "Successfully installed flask_swagger_ui-4.11.1\n",
      "Note: you may need to restart the kernel to use updated packages.\n"
     ]
    },
    {
     "name": "stderr",
     "output_type": "stream",
     "text": [
      "WARNING: You are using pip version 22.0.4; however, version 22.3 is available.\n",
      "You should consider upgrading via the 'c:\\Users\\L580\\AppData\\Local\\Programs\\Python\\Python310\\python.exe -m pip install --upgrade pip' command.\n"
     ]
    }
   ],
   "source": [
    "pip install flask_swagger_ui"
   ]
  },
  {
   "cell_type": "code",
   "execution_count": 5,
   "metadata": {},
   "outputs": [
    {
     "name": "stdout",
     "output_type": "stream",
     "text": [
      "Requirement already satisfied: mysql-connector-python in c:\\users\\l580\\appdata\\local\\programs\\python\\python310\\lib\\site-packages (8.0.30)\n",
      "Requirement already satisfied: protobuf<=3.20.1,>=3.11.0 in c:\\users\\l580\\appdata\\local\\programs\\python\\python310\\lib\\site-packages (from mysql-connector-python) (3.20.1)\n",
      "Note: you may need to restart the kernel to use updated packages.\n"
     ]
    },
    {
     "name": "stderr",
     "output_type": "stream",
     "text": [
      "WARNING: You are using pip version 22.0.4; however, version 22.3 is available.\n",
      "You should consider upgrading via the 'c:\\Users\\L580\\AppData\\Local\\Programs\\Python\\Python310\\python.exe -m pip install --upgrade pip' command.\n"
     ]
    }
   ],
   "source": [
    "pip install mysql-connector-python"
   ]
  },
  {
   "cell_type": "markdown",
   "metadata": {},
   "source": [
    "Import Library"
   ]
  },
  {
   "cell_type": "code",
   "execution_count": 6,
   "metadata": {},
   "outputs": [],
   "source": [
    "import pandas as pd\n",
    "from flask import Flask, request, jsonify, make_response\n",
    "import sqlite3\n",
    "from flasgger import Swagger, LazyString, LazyJSONEncoder, swag_from\n",
    "import re"
   ]
  },
  {
   "cell_type": "markdown",
   "metadata": {},
   "source": [
    "Connect Database SQL"
   ]
  },
  {
   "cell_type": "code",
   "execution_count": 7,
   "metadata": {},
   "outputs": [],
   "source": [
    "conn = sqlite3.connect('binar.db')"
   ]
  },
  {
   "cell_type": "markdown",
   "metadata": {},
   "source": [
    "Define App"
   ]
  },
  {
   "cell_type": "code",
   "execution_count": 8,
   "metadata": {},
   "outputs": [
    {
     "name": "stderr",
     "output_type": "stream",
     "text": [
      "C:\\Users\\L580\\AppData\\Local\\Temp\\ipykernel_27864\\1644928534.py:2: DeprecationWarning: 'app.json_encoder' is deprecated and will be removed in Flask 2.3. Customize 'app.json_provider_class' or 'app.json' instead.\n",
      "  app.json_encoder = LazyJSONEncoder\n"
     ]
    }
   ],
   "source": [
    "\n",
    "app = Flask(__name__)\n",
    "app.json_encoder = LazyJSONEncoder"
   ]
  },
  {
   "cell_type": "markdown",
   "metadata": {},
   "source": [
    "Function to Clean Text"
   ]
  },
  {
   "cell_type": "code",
   "execution_count": 9,
   "metadata": {},
   "outputs": [],
   "source": [
    "# lowercase\n",
    "def lowercase(text):\n",
    "    return text.lower()\n",
    "\n",
    "# remove emoji\n",
    "def remove_emoji(text):\n",
    "    emoji_pattern = re.compile(\"[\"\n",
    "                           u\"\\U0001F600-\\U0001F64F\"  # emoticons\n",
    "                           u\"\\U0001F300-\\U0001F5FF\"  # symbols & pictographs\n",
    "                           u\"\\U0001F680-\\U0001F6FF\"  # transport & map symbols\n",
    "                           u\"\\U0001F1E0-\\U0001F1FF\"  # flags (iOS)\n",
    "                           u\"\\U00002702-\\U000027B0\"\n",
    "                           u\"\\U000024C2-\\U0001F251\"\n",
    "                           \"]+\", flags=re.UNICODE)\n",
    "    return emoji_pattern.sub(r'', text)\n",
    "\n",
    "# remove bytes character\n",
    "def remove_bytes_character(text):\n",
    "    return re.sub(r'[^\\x00-\\x7F]',' ', text)\n",
    "\n",
    "# remove enter and unneeded chars\n",
    "def remove_unneeded_char(text):\n",
    "    text = re.sub('\\n',' ', text)       #remove enter\n",
    "    text = re.sub('user',' ', text)     #remove kata user\n",
    "    text = re.sub('rt',' ', text)       #remove kata rt\n",
    "    text = re.sub(r'\\s+', ' ',text)     #eliminate duplicate whitespaces\n",
    "    \n",
    "# remove punctuation\n",
    "def remove_punct(text):\n",
    "    text = re.sub('[^0-9a-zA-Z]+', ' ', text)\n",
    " \n",
    "# cleansing data    \n",
    "def cleansing_data(text):\n",
    "    text = lowercase(text) \n",
    "    text = remove_emoji(text)\n",
    "    text = remove_bytes_character(text)\n",
    "    text = remove_unneeded_char(text)\n",
    "    text = remove_punct(text)\n",
    "    return text\n",
    "\n",
    "# cleansing data for text\n",
    "def cleansing_text(input_text):\n",
    "    try: \n",
    "        output_text = cleansing_data(input_text)\n",
    "        return output_text\n",
    "    except:\n",
    "        print(\"error\")"
   ]
  },
  {
   "cell_type": "markdown",
   "metadata": {},
   "source": [
    "Flask & Swagger"
   ]
  },
  {
   "cell_type": "code",
   "execution_count": 10,
   "metadata": {},
   "outputs": [],
   "source": [
    "# call API post\n",
    "@swag_from(\"swagger_config_post.yml\", methods=['POST'])\n",
    "@app.route(\"/text_twitter\", methods=[\"POST\"])\n",
    "def twitter_text():\n",
    "    request.method == \"POST\"\n",
    "    input_text = str(request.get_json[\"text\"])\n",
    "    output_text = cleansing_data(input_text)\n",
    "    sql_text = \"insert into hate_speech_twitter (dirty_text,clean_text) values (?, ?)\"\n",
    "    result = (input_text, output_text)\n",
    "    conn.execute(sql_text, result)\n",
    "    conn.commit()\n",
    "    print(input_text)\n",
    "    print(output_text)\n",
    "    return \"sukses\""
   ]
  },
  {
   "cell_type": "code",
   "execution_count": 11,
   "metadata": {},
   "outputs": [],
   "source": [
    "swagger_config = {\n",
    "    \"headers\": [],\n",
    "    \"specs\": [\n",
    "        {\n",
    "            \"endpoint\": 'docs',\n",
    "            \"route\": '/docs.json',\n",
    "            \"rule_filter\": lambda rule: True,\n",
    "            \"model_filter\": lambda tag: True,\n",
    "        }\n",
    "    ],\n",
    "    \"static_url_path\": \"/flasgger_static\",\n",
    "    \"swagger_ui\": True,\n",
    "    \"specs_route\": \"/docs/\"\n",
    "}\n",
    "\n",
    "swagger = Swagger(config=swagger_config)"
   ]
  },
  {
   "cell_type": "code",
   "execution_count": 12,
   "metadata": {},
   "outputs": [],
   "source": [
    "# error handling\n",
    "@app.errorhandler(400)\n",
    "def handle_bad_request(e):\n",
    "    return 'bad request!', 400\n",
    "\n",
    "@app.errorhandler(404)\n",
    "def handle_404_error(e):\n",
    "    return 'not found!', 404\n",
    "\n",
    "@app.errorhandler(500)\n",
    "def handle_server_error(e):\n",
    "    return 'server error', 500"
   ]
  },
  {
   "cell_type": "code",
   "execution_count": 21,
   "metadata": {},
   "outputs": [
    {
     "name": "stdout",
     "output_type": "stream",
     "text": [
      " * Serving Flask app '__main__'\n",
      " * Debug mode: on\n"
     ]
    },
    {
     "name": "stderr",
     "output_type": "stream",
     "text": [
      "WARNING: This is a development server. Do not use it in a production deployment. Use a production WSGI server instead.\n",
      " * Running on http://127.0.0.1:5000\n",
      "Press CTRL+C to quit\n",
      " * Restarting with stat\n"
     ]
    },
    {
     "ename": "SystemExit",
     "evalue": "1",
     "output_type": "error",
     "traceback": [
      "An exception has occurred, use %tb to see the full traceback.\n",
      "\u001b[1;31mSystemExit\u001b[0m\u001b[1;31m:\u001b[0m 1\n"
     ]
    },
    {
     "name": "stderr",
     "output_type": "stream",
     "text": [
      "c:\\Users\\L580\\AppData\\Local\\Programs\\Python\\Python310\\lib\\site-packages\\IPython\\core\\interactiveshell.py:3406: UserWarning: To exit: use 'exit', 'quit', or Ctrl-D.\n",
      "  warn(\"To exit: use 'exit', 'quit', or Ctrl-D.\", stacklevel=1)\n"
     ]
    }
   ],
   "source": [
    "if __name__ == \"__main__\":\n",
    "    app.run(debug=True)"
   ]
  }
 ],
 "metadata": {
  "kernelspec": {
   "display_name": "Python 3.10.5 64-bit",
   "language": "python",
   "name": "python3"
  },
  "language_info": {
   "codemirror_mode": {
    "name": "ipython",
    "version": 3
   },
   "file_extension": ".py",
   "mimetype": "text/x-python",
   "name": "python",
   "nbconvert_exporter": "python",
   "pygments_lexer": "ipython3",
   "version": "3.10.5"
  },
  "orig_nbformat": 4,
  "vscode": {
   "interpreter": {
    "hash": "e9a0684188baa8478e4aab5739f9a6ca9e6188f8492b9b67656bb38dc99a20e0"
   }
  }
 },
 "nbformat": 4,
 "nbformat_minor": 2
}
