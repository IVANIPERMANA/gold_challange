{
 "cells": [
  {
   "cell_type": "code",
   "execution_count": 1,
   "metadata": {},
   "outputs": [],
   "source": [
    "# import library\n",
    "import string\n",
    "import pandas as pd\n",
    "import re\n",
    "import sqlite3"
   ]
  },
  {
   "cell_type": "code",
   "execution_count": 8,
   "metadata": {},
   "outputs": [],
   "source": [
    "# connect to database\n",
    "conn = sqlite3.connect('binar.db')\n",
    "\n",
    "# function to cleaning\n",
    "# lowercase\n",
    "def lowercase(text):\n",
    "    return text.lower()\n",
    "\n",
    "# remove emoji\n",
    "def remove_emoji(text):\n",
    "    emoji_pattern = re.compile(\"[\"\n",
    "                           u\"\\U0001F600-\\U0001F64F\"  # emoticons\n",
    "                           u\"\\U0001F300-\\U0001F5FF\"  # symbols & pictographs\n",
    "                           u\"\\U0001F680-\\U0001F6FF\"  # transport & map symbols\n",
    "                           u\"\\U0001F1E0-\\U0001F1FF\"  # flags (iOS)\n",
    "                           u\"\\U00002702-\\U000027B0\"\n",
    "                           u\"\\U000024C2-\\U0001F251\"\n",
    "                           \"]+\", flags=re.UNICODE)\n",
    "    return emoji_pattern.sub(r'', text)\n",
    "\n",
    "# remove bytes character\n",
    "def remove_bytes_character(text):\n",
    "    return re.sub(r'[^\\x00-\\x7F]',' ', text)\n",
    "\n",
    "# remove enter and unneeded chars\n",
    "def remove_unneeded_char(text):\n",
    "    text = re.sub('\\n',' ', text)       #remove enter\n",
    "    text = re.sub('user',' ', text)     #remove kata user\n",
    "    text = re.sub('rt',' ', text)       #remove kata rt\n",
    "    text = re.sub(r'\\s+', ' ',text)     #eliminate duplicate whitespaces\n",
    "    return text\n",
    "\n",
    "# remove punctuation\n",
    "def remove_punct(text):\n",
    "    text = re.sub('[^0-9a-zA-Z]+', ' ', text)\n",
    "    return text"
   ]
  },
  {
   "cell_type": "code",
   "execution_count": 9,
   "metadata": {},
   "outputs": [],
   "source": [
    "# cleansing data    \n",
    "def cleansing_data(text):\n",
    "    text = lowercase(text) \n",
    "    print('success lowercase', text)\n",
    "    text = remove_emoji(text)\n",
    "    print('success remove_emoji', text)\n",
    "    text = remove_bytes_character(text)\n",
    "    print('success remove bytes char',text)\n",
    "    text = remove_unneeded_char(text)\n",
    "    print('success remove unneeded char', text)\n",
    "    text = remove_punct(text)\n",
    "    print('success remove punct', text)\n",
    "    return text"
   ]
  },
  {
   "cell_type": "code",
   "execution_count": 13,
   "metadata": {},
   "outputs": [
    {
     "name": "stdout",
     "output_type": "stream",
     "text": [
      "success lowercase user ya bani taplak dkk \\xf0\\x9f\\x98\\x84\\xf0\\x9f\\x98\\x84\\xf0\\x9f\\x98\\x84'\n",
      "success remove_emoji user ya bani taplak dkk \\xf0\\x9f\\x98\\x84\\xf0\\x9f\\x98\\x84\\xf0\\x9f\\x98\\x84'\n",
      "success remove bytes char user ya bani taplak dkk \\xf0\\x9f\\x98\\x84\\xf0\\x9f\\x98\\x84\\xf0\\x9f\\x98\\x84'\n",
      "success remove unneeded char  ya bani taplak dkk \\xf0\\x9f\\x98\\x84\\xf0\\x9f\\x98\\x84\\xf0\\x9f\\x98\\x84'\n",
      "success remove punct  ya bani taplak dkk xf0 x9f x98 x84 xf0 x9f x98 x84 xf0 x9f x98 x84 \n"
     ]
    },
    {
     "data": {
      "text/plain": [
       "' ya bani taplak dkk xf0 x9f x98 x84 xf0 x9f x98 x84 xf0 x9f x98 x84 '"
      ]
     },
     "execution_count": 13,
     "metadata": {},
     "output_type": "execute_result"
    }
   ],
   "source": [
    "cleansing_data(\"USER Ya bani taplak dkk \\\\xf0\\\\x9f\\\\x98\\\\x84\\\\xf0\\\\x9f\\\\x98\\\\x84\\\\xf0\\\\x9f\\\\x98\\\\x84'\")"
   ]
  }
 ],
 "metadata": {
  "kernelspec": {
   "display_name": "Python 3.10.5 64-bit",
   "language": "python",
   "name": "python3"
  },
  "language_info": {
   "codemirror_mode": {
    "name": "ipython",
    "version": 3
   },
   "file_extension": ".py",
   "mimetype": "text/x-python",
   "name": "python",
   "nbconvert_exporter": "python",
   "pygments_lexer": "ipython3",
   "version": "3.10.5"
  },
  "orig_nbformat": 4,
  "vscode": {
   "interpreter": {
    "hash": "e9a0684188baa8478e4aab5739f9a6ca9e6188f8492b9b67656bb38dc99a20e0"
   }
  }
 },
 "nbformat": 4,
 "nbformat_minor": 2
}
